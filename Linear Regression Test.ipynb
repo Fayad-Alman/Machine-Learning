{
 "cells": [
  {
   "cell_type": "markdown",
   "id": "a7ef8671",
   "metadata": {},
   "source": [
    "## Installing required frameworks and libraries"
   ]
  },
  {
   "cell_type": "code",
   "execution_count": 21,
   "id": "256e86f8",
   "metadata": {},
   "outputs": [
    {
     "name": "stdout",
     "output_type": "stream",
     "text": [
      "Requirement already satisfied: grpcio in c:\\users\\mizan\\downloads\\python\\lib\\site-packages (1.47.0)\n",
      "Requirement already satisfied: six>=1.5.2 in c:\\users\\mizan\\downloads\\python\\lib\\site-packages (from grpcio) (1.16.0)\n",
      "Requirement already satisfied: tensorflow in c:\\users\\mizan\\downloads\\python\\lib\\site-packages (2.9.1)\n",
      "Requirement already satisfied: h5py>=2.9.0 in c:\\users\\mizan\\downloads\\python\\lib\\site-packages (from tensorflow) (3.7.0)\n",
      "Requirement already satisfied: opt-einsum>=2.3.2 in c:\\users\\mizan\\downloads\\python\\lib\\site-packages (from tensorflow) (3.3.0)\n",
      "Requirement already satisfied: flatbuffers<2,>=1.12 in c:\\users\\mizan\\downloads\\python\\lib\\site-packages (from tensorflow) (1.12)\n",
      "Requirement already satisfied: six>=1.12.0 in c:\\users\\mizan\\downloads\\python\\lib\\site-packages (from tensorflow) (1.16.0)\n",
      "Requirement already satisfied: keras-preprocessing>=1.1.1 in c:\\users\\mizan\\downloads\\python\\lib\\site-packages (from tensorflow) (1.1.2)\n",
      "Requirement already satisfied: termcolor>=1.1.0 in c:\\users\\mizan\\downloads\\python\\lib\\site-packages (from tensorflow) (1.1.0)\n",
      "Requirement already satisfied: numpy>=1.20 in c:\\users\\mizan\\downloads\\python\\lib\\site-packages (from tensorflow) (1.23.1)\n",
      "Requirement already satisfied: protobuf<3.20,>=3.9.2 in c:\\users\\mizan\\downloads\\python\\lib\\site-packages (from tensorflow) (3.19.4)\n",
      "Requirement already satisfied: packaging in c:\\users\\mizan\\downloads\\python\\lib\\site-packages (from tensorflow) (21.3)\n",
      "Requirement already satisfied: libclang>=13.0.0 in c:\\users\\mizan\\downloads\\python\\lib\\site-packages (from tensorflow) (14.0.6)\n",
      "Requirement already satisfied: astunparse>=1.6.0 in c:\\users\\mizan\\downloads\\python\\lib\\site-packages (from tensorflow) (1.6.3)\n",
      "Requirement already satisfied: absl-py>=1.0.0 in c:\\users\\mizan\\downloads\\python\\lib\\site-packages (from tensorflow) (1.2.0)\n",
      "Requirement already satisfied: gast<=0.4.0,>=0.2.1 in c:\\users\\mizan\\downloads\\python\\lib\\site-packages (from tensorflow) (0.4.0)\n",
      "Requirement already satisfied: tensorboard<2.10,>=2.9 in c:\\users\\mizan\\downloads\\python\\lib\\site-packages (from tensorflow) (2.9.1)\n",
      "Requirement already satisfied: typing-extensions>=3.6.6 in c:\\users\\mizan\\downloads\\python\\lib\\site-packages (from tensorflow) (4.3.0)\n",
      "Requirement already satisfied: tensorflow-io-gcs-filesystem>=0.23.1 in c:\\users\\mizan\\downloads\\python\\lib\\site-packages (from tensorflow) (0.26.0)\n",
      "Requirement already satisfied: grpcio<2.0,>=1.24.3 in c:\\users\\mizan\\downloads\\python\\lib\\site-packages (from tensorflow) (1.47.0)\n",
      "Requirement already satisfied: google-pasta>=0.1.1 in c:\\users\\mizan\\downloads\\python\\lib\\site-packages (from tensorflow) (0.2.0)\n",
      "Requirement already satisfied: wrapt>=1.11.0 in c:\\users\\mizan\\downloads\\python\\lib\\site-packages (from tensorflow) (1.14.1)\n",
      "Requirement already satisfied: keras<2.10.0,>=2.9.0rc0 in c:\\users\\mizan\\downloads\\python\\lib\\site-packages (from tensorflow) (2.9.0)\n",
      "Requirement already satisfied: setuptools in c:\\users\\mizan\\downloads\\python\\lib\\site-packages (from tensorflow) (56.0.0)\n",
      "Requirement already satisfied: tensorflow-estimator<2.10.0,>=2.9.0rc0 in c:\\users\\mizan\\downloads\\python\\lib\\site-packages (from tensorflow) (2.9.0)\n",
      "Requirement already satisfied: wheel<1.0,>=0.23.0 in c:\\users\\mizan\\downloads\\python\\lib\\site-packages (from astunparse>=1.6.0->tensorflow) (0.37.1)\n",
      "Requirement already satisfied: werkzeug>=1.0.1 in c:\\users\\mizan\\downloads\\python\\lib\\site-packages (from tensorboard<2.10,>=2.9->tensorflow) (2.2.1)\n",
      "Requirement already satisfied: tensorboard-plugin-wit>=1.6.0 in c:\\users\\mizan\\downloads\\python\\lib\\site-packages (from tensorboard<2.10,>=2.9->tensorflow) (1.8.1)\n",
      "Requirement already satisfied: markdown>=2.6.8 in c:\\users\\mizan\\downloads\\python\\lib\\site-packages (from tensorboard<2.10,>=2.9->tensorflow) (3.4.1)\n",
      "Requirement already satisfied: requests<3,>=2.21.0 in c:\\users\\mizan\\downloads\\python\\lib\\site-packages (from tensorboard<2.10,>=2.9->tensorflow) (2.28.1)\n",
      "Requirement already satisfied: google-auth-oauthlib<0.5,>=0.4.1 in c:\\users\\mizan\\downloads\\python\\lib\\site-packages (from tensorboard<2.10,>=2.9->tensorflow) (0.4.6)\n",
      "Requirement already satisfied: tensorboard-data-server<0.7.0,>=0.6.0 in c:\\users\\mizan\\downloads\\python\\lib\\site-packages (from tensorboard<2.10,>=2.9->tensorflow) (0.6.1)\n",
      "Requirement already satisfied: google-auth<3,>=1.6.3 in c:\\users\\mizan\\downloads\\python\\lib\\site-packages (from tensorboard<2.10,>=2.9->tensorflow) (2.10.0)\n",
      "Requirement already satisfied: pyparsing!=3.0.5,>=2.0.2 in c:\\users\\mizan\\downloads\\python\\lib\\site-packages (from packaging->tensorflow) (3.0.9)\n",
      "Requirement already satisfied: pyasn1-modules>=0.2.1 in c:\\users\\mizan\\downloads\\python\\lib\\site-packages (from google-auth<3,>=1.6.3->tensorboard<2.10,>=2.9->tensorflow) (0.2.8)\n",
      "Requirement already satisfied: cachetools<6.0,>=2.0.0 in c:\\users\\mizan\\downloads\\python\\lib\\site-packages (from google-auth<3,>=1.6.3->tensorboard<2.10,>=2.9->tensorflow) (5.2.0)\n",
      "Requirement already satisfied: rsa<5,>=3.1.4 in c:\\users\\mizan\\downloads\\python\\lib\\site-packages (from google-auth<3,>=1.6.3->tensorboard<2.10,>=2.9->tensorflow) (4.9)\n",
      "Requirement already satisfied: requests-oauthlib>=0.7.0 in c:\\users\\mizan\\downloads\\python\\lib\\site-packages (from google-auth-oauthlib<0.5,>=0.4.1->tensorboard<2.10,>=2.9->tensorflow) (1.3.1)\n",
      "Requirement already satisfied: importlib-metadata>=4.4 in c:\\users\\mizan\\downloads\\python\\lib\\site-packages (from markdown>=2.6.8->tensorboard<2.10,>=2.9->tensorflow) (4.12.0)\n",
      "Requirement already satisfied: certifi>=2017.4.17 in c:\\users\\mizan\\downloads\\python\\lib\\site-packages (from requests<3,>=2.21.0->tensorboard<2.10,>=2.9->tensorflow) (2022.6.15)\n",
      "Requirement already satisfied: charset-normalizer<3,>=2 in c:\\users\\mizan\\downloads\\python\\lib\\site-packages (from requests<3,>=2.21.0->tensorboard<2.10,>=2.9->tensorflow) (2.1.0)\n",
      "Requirement already satisfied: idna<4,>=2.5 in c:\\users\\mizan\\downloads\\python\\lib\\site-packages (from requests<3,>=2.21.0->tensorboard<2.10,>=2.9->tensorflow) (3.3)\n",
      "Requirement already satisfied: urllib3<1.27,>=1.21.1 in c:\\users\\mizan\\downloads\\python\\lib\\site-packages (from requests<3,>=2.21.0->tensorboard<2.10,>=2.9->tensorflow) (1.26.11)\n",
      "Requirement already satisfied: MarkupSafe>=2.1.1 in c:\\users\\mizan\\downloads\\python\\lib\\site-packages (from werkzeug>=1.0.1->tensorboard<2.10,>=2.9->tensorflow) (2.1.1)\n",
      "Requirement already satisfied: zipp>=0.5 in c:\\users\\mizan\\downloads\\python\\lib\\site-packages (from importlib-metadata>=4.4->markdown>=2.6.8->tensorboard<2.10,>=2.9->tensorflow) (3.8.1)\n",
      "Requirement already satisfied: pyasn1<0.5.0,>=0.4.6 in c:\\users\\mizan\\downloads\\python\\lib\\site-packages (from pyasn1-modules>=0.2.1->google-auth<3,>=1.6.3->tensorboard<2.10,>=2.9->tensorflow) (0.4.8)\n",
      "Requirement already satisfied: oauthlib>=3.0.0 in c:\\users\\mizan\\downloads\\python\\lib\\site-packages (from requests-oauthlib>=0.7.0->google-auth-oauthlib<0.5,>=0.4.1->tensorboard<2.10,>=2.9->tensorflow) (3.2.0)\n"
     ]
    }
   ],
   "source": [
    "!pip install grpcio\n",
    "!pip install tensorflow"
   ]
  },
  {
   "cell_type": "code",
   "execution_count": 22,
   "id": "30120ceb",
   "metadata": {},
   "outputs": [
    {
     "name": "stdout",
     "output_type": "stream",
     "text": [
      "Requirement already satisfied: pandas in c:\\users\\mizan\\downloads\\python\\lib\\site-packages (1.4.3)\n",
      "Requirement already satisfied: numpy>=1.18.5 in c:\\users\\mizan\\downloads\\python\\lib\\site-packages (from pandas) (1.23.1)\n",
      "Requirement already satisfied: python-dateutil>=2.8.1 in c:\\users\\mizan\\downloads\\python\\lib\\site-packages (from pandas) (2.8.2)\n",
      "Requirement already satisfied: pytz>=2020.1 in c:\\users\\mizan\\downloads\\python\\lib\\site-packages (from pandas) (2022.1)\n",
      "Requirement already satisfied: six>=1.5 in c:\\users\\mizan\\downloads\\python\\lib\\site-packages (from python-dateutil>=2.8.1->pandas) (1.16.0)\n",
      "Requirement already satisfied: matplotlib in c:\\users\\mizan\\downloads\\python\\lib\\site-packages (3.5.3)\n",
      "Requirement already satisfied: fonttools>=4.22.0 in c:\\users\\mizan\\downloads\\python\\lib\\site-packages (from matplotlib) (4.34.4)\n",
      "Requirement already satisfied: pillow>=6.2.0 in c:\\users\\mizan\\downloads\\python\\lib\\site-packages (from matplotlib) (9.2.0)\n",
      "Requirement already satisfied: cycler>=0.10 in c:\\users\\mizan\\downloads\\python\\lib\\site-packages (from matplotlib) (0.11.0)\n",
      "Requirement already satisfied: python-dateutil>=2.7 in c:\\users\\mizan\\downloads\\python\\lib\\site-packages (from matplotlib) (2.8.2)\n",
      "Requirement already satisfied: numpy>=1.17 in c:\\users\\mizan\\downloads\\python\\lib\\site-packages (from matplotlib) (1.23.1)\n",
      "Requirement already satisfied: pyparsing>=2.2.1 in c:\\users\\mizan\\downloads\\python\\lib\\site-packages (from matplotlib) (3.0.9)\n",
      "Requirement already satisfied: kiwisolver>=1.0.1 in c:\\users\\mizan\\downloads\\python\\lib\\site-packages (from matplotlib) (1.4.4)\n",
      "Requirement already satisfied: packaging>=20.0 in c:\\users\\mizan\\downloads\\python\\lib\\site-packages (from matplotlib) (21.3)\n",
      "Requirement already satisfied: six>=1.5 in c:\\users\\mizan\\downloads\\python\\lib\\site-packages (from python-dateutil>=2.7->matplotlib) (1.16.0)\n"
     ]
    },
    {
     "name": "stderr",
     "output_type": "stream",
     "text": [
      "ERROR: Could not find a version that satisfies the requirement pylab (from versions: none)\n",
      "ERROR: No matching distribution found for pylab\n"
     ]
    },
    {
     "name": "stdout",
     "output_type": "stream",
     "text": [
      "Requirement already satisfied: numpy in c:\\users\\mizan\\downloads\\python\\lib\\site-packages (1.23.1)\n"
     ]
    }
   ],
   "source": [
    "# Continuing installation\n",
    "!pip install pandas\n",
    "!pip install matplotlib\n",
    "!pip install pylab\n",
    "!pip install numpy"
   ]
  },
  {
   "cell_type": "markdown",
   "id": "4328a292",
   "metadata": {},
   "source": [
    "### Importing frameworks and libraries"
   ]
  },
  {
   "cell_type": "code",
   "execution_count": 23,
   "id": "5051ae22",
   "metadata": {},
   "outputs": [],
   "source": [
    "# Importing libraries\n",
    "import pandas as pd\n",
    "import matplotlib.pyplot as plt\n",
    "import pylab as pl\n",
    "import numpy as np\n",
    "import tensorflow as tf\n",
    "import matplotlib.patches as mpatches\n",
    "import matplotlib.pyplot as plt\n",
    "%matplotlib inline\n",
    "plt.rcParams['figure.figsize'] = (10, 6)"
   ]
  },
  {
   "cell_type": "markdown",
   "id": "0a5ffe0b",
   "metadata": {},
   "source": [
    "## Testing a sample array and graph"
   ]
  },
  {
   "cell_type": "markdown",
   "id": "f2284ecb",
   "metadata": {},
   "source": [
    "### Testing array"
   ]
  },
  {
   "cell_type": "code",
   "execution_count": 24,
   "id": "84c68e45",
   "metadata": {},
   "outputs": [
    {
     "data": {
      "text/plain": [
       "array([0. , 0.1, 0.2, 0.3, 0.4, 0.5, 0.6, 0.7, 0.8, 0.9, 1. , 1.1, 1.2,\n",
       "       1.3, 1.4, 1.5, 1.6, 1.7, 1.8, 1.9, 2. , 2.1, 2.2, 2.3, 2.4, 2.5,\n",
       "       2.6, 2.7, 2.8, 2.9, 3. , 3.1, 3.2, 3.3, 3.4, 3.5, 3.6, 3.7, 3.8,\n",
       "       3.9, 4. , 4.1, 4.2, 4.3, 4.4, 4.5, 4.6, 4.7, 4.8, 4.9])"
      ]
     },
     "execution_count": 24,
     "metadata": {},
     "output_type": "execute_result"
    }
   ],
   "source": [
    "X = np.arange(0.0, 5.0, 0.1)\n",
    "X"
   ]
  },
  {
   "cell_type": "markdown",
   "id": "0bd9f82e",
   "metadata": {},
   "source": [
    "### Creating a sample graph"
   ]
  },
  {
   "cell_type": "code",
   "execution_count": 25,
   "id": "0a1db0f6",
   "metadata": {},
   "outputs": [
    {
     "data": {
      "image/png": "[encoded data removed]",
      "text/plain": [
       "<Figure size 720x432 with 1 Axes>"
      ]
     },
     "metadata": {
      "needs_background": "light"
     },
     "output_type": "display_data"
    }
   ],
   "source": [
    "# You can adjust the slope and intercept to verify the changes in the graph\n",
    "a = 1\n",
    "b = 0\n",
    "\n",
    "Y= a * X + b \n",
    "\n",
    "plt.plot(X, Y) \n",
    "plt.ylabel('Dependent Variable')\n",
    "plt.xlabel('Indepdendent Variable')\n",
    "plt.show()"
   ]
  },
  {
   "cell_type": "markdown",
   "id": "4208a8e2",
   "metadata": {},
   "source": [
    "## Importing and preparing the data"
   ]
  },
  {
   "cell_type": "markdown",
   "id": "35029486",
   "metadata": {},
   "source": [
    "### Importing Data"
   ]
  },
  {
   "cell_type": "code",
   "execution_count": 26,
   "id": "9d6d9e65",
   "metadata": {},
   "outputs": [
    {
     "data": {
      "text/html": [
       "<div>\n",
       "<style scoped>\n",
       "    .dataframe tbody tr th:only-of-type {\n",
       "        vertical-align: middle;\n",
       "    }\n",
       "\n",
       "    .dataframe tbody tr th {\n",
       "        vertical-align: top;\n",
       "    }\n",
       "\n",
       "    .dataframe thead th {\n",
       "        text-align: right;\n",
       "    }\n",
       "</style>\n",
       "<table border=\"1\" class=\"dataframe\">\n",
       "  <thead>\n",
       "    <tr style=\"text-align: right;\">\n",
       "      <th></th>\n",
       "      <th>MODELYEAR</th>\n",
       "      <th>MAKE</th>\n",
       "      <th>MODEL</th>\n",
       "      <th>VEHICLECLASS</th>\n",
       "      <th>ENGINESIZE</th>\n",
       "      <th>CYLINDERS</th>\n",
       "      <th>TRANSMISSION</th>\n",
       "      <th>FUELTYPE</th>\n",
       "      <th>FUELCONSUMPTION_CITY</th>\n",
       "      <th>FUELCONSUMPTION_HWY</th>\n",
       "      <th>FUELCONSUMPTION_COMB</th>\n",
       "      <th>FUELCONSUMPTION_COMB_MPG</th>\n",
       "      <th>CO2EMISSIONS</th>\n",
       "    </tr>\n",
       "  </thead>\n",
       "  <tbody>\n",
       "    <tr>\n",
       "      <th>0</th>\n",
       "      <td>2014</td>\n",
       "      <td>ACURA</td>\n",
       "      <td>ILX</td>\n",
       "      <td>COMPACT</td>\n",
       "      <td>2.0</td>\n",
       "      <td>4</td>\n",
       "      <td>AS5</td>\n",
       "      <td>Z</td>\n",
       "      <td>9.9</td>\n",
       "      <td>6.7</td>\n",
       "      <td>8.5</td>\n",
       "      <td>33</td>\n",
       "      <td>196</td>\n",
       "    </tr>\n",
       "    <tr>\n",
       "      <th>1</th>\n",
       "      <td>2014</td>\n",
       "      <td>ACURA</td>\n",
       "      <td>ILX</td>\n",
       "      <td>COMPACT</td>\n",
       "      <td>2.4</td>\n",
       "      <td>4</td>\n",
       "      <td>M6</td>\n",
       "      <td>Z</td>\n",
       "      <td>11.2</td>\n",
       "      <td>7.7</td>\n",
       "      <td>9.6</td>\n",
       "      <td>29</td>\n",
       "      <td>221</td>\n",
       "    </tr>\n",
       "    <tr>\n",
       "      <th>2</th>\n",
       "      <td>2014</td>\n",
       "      <td>ACURA</td>\n",
       "      <td>ILX HYBRID</td>\n",
       "      <td>COMPACT</td>\n",
       "      <td>1.5</td>\n",
       "      <td>4</td>\n",
       "      <td>AV7</td>\n",
       "      <td>Z</td>\n",
       "      <td>6.0</td>\n",
       "      <td>5.8</td>\n",
       "      <td>5.9</td>\n",
       "      <td>48</td>\n",
       "      <td>136</td>\n",
       "    </tr>\n",
       "    <tr>\n",
       "      <th>3</th>\n",
       "      <td>2014</td>\n",
       "      <td>ACURA</td>\n",
       "      <td>MDX 4WD</td>\n",
       "      <td>SUV - SMALL</td>\n",
       "      <td>3.5</td>\n",
       "      <td>6</td>\n",
       "      <td>AS6</td>\n",
       "      <td>Z</td>\n",
       "      <td>12.7</td>\n",
       "      <td>9.1</td>\n",
       "      <td>11.1</td>\n",
       "      <td>25</td>\n",
       "      <td>255</td>\n",
       "    </tr>\n",
       "    <tr>\n",
       "      <th>4</th>\n",
       "      <td>2014</td>\n",
       "      <td>ACURA</td>\n",
       "      <td>RDX AWD</td>\n",
       "      <td>SUV - SMALL</td>\n",
       "      <td>3.5</td>\n",
       "      <td>6</td>\n",
       "      <td>AS6</td>\n",
       "      <td>Z</td>\n",
       "      <td>12.1</td>\n",
       "      <td>8.7</td>\n",
       "      <td>10.6</td>\n",
       "      <td>27</td>\n",
       "      <td>244</td>\n",
       "    </tr>\n",
       "  </tbody>\n",
       "</table>\n",
       "</div>"
      ],
      "text/plain": [
       "   MODELYEAR   MAKE       MODEL VEHICLECLASS  ENGINESIZE  CYLINDERS  \\\n",
       "0       2014  ACURA         ILX      COMPACT         2.0          4   \n",
       "1       2014  ACURA         ILX      COMPACT         2.4          4   \n",
       "2       2014  ACURA  ILX HYBRID      COMPACT         1.5          4   \n",
       "3       2014  ACURA     MDX 4WD  SUV - SMALL         3.5          6   \n",
       "4       2014  ACURA     RDX AWD  SUV - SMALL         3.5          6   \n",
       "\n",
       "  TRANSMISSION FUELTYPE  FUELCONSUMPTION_CITY  FUELCONSUMPTION_HWY  \\\n",
       "0          AS5        Z                   9.9                  6.7   \n",
       "1           M6        Z                  11.2                  7.7   \n",
       "2          AV7        Z                   6.0                  5.8   \n",
       "3          AS6        Z                  12.7                  9.1   \n",
       "4          AS6        Z                  12.1                  8.7   \n",
       "\n",
       "   FUELCONSUMPTION_COMB  FUELCONSUMPTION_COMB_MPG  CO2EMISSIONS  \n",
       "0                   8.5                        33           196  \n",
       "1                   9.6                        29           221  \n",
       "2                   5.9                        48           136  \n",
       "3                  11.1                        25           255  \n",
       "4                  10.6                        27           244  "
      ]
     },
     "execution_count": 26,
     "metadata": {},
     "output_type": "execute_result"
    }
   ],
   "source": [
    "df = pd.read_csv(\"FuelConsumptionCo2.csv\")\n",
    "\n",
    "# take a look at the dataset\n",
    "df.head()"
   ]
  },
  {
   "cell_type": "markdown",
   "id": "7ddfed38",
   "metadata": {},
   "source": [
    "### Creating training data sets"
   ]
  },
  {
   "cell_type": "code",
   "execution_count": 27,
   "id": "f48f408d",
   "metadata": {},
   "outputs": [],
   "source": [
    "train_x = np.asanyarray(df[['ENGINESIZE']])\n",
    "train_y = np.asanyarray(df[['CO2EMISSIONS']])"
   ]
  },
  {
   "cell_type": "markdown",
   "id": "6dddb867",
   "metadata": {},
   "source": [
    "## Creating and training the model"
   ]
  },
  {
   "cell_type": "markdown",
   "id": "7bce7dea",
   "metadata": {},
   "source": [
    "### Creating and defining initial values for model"
   ]
  },
  {
   "cell_type": "code",
   "execution_count": 28,
   "id": "6eea7d84",
   "metadata": {},
   "outputs": [],
   "source": [
    "# Initializing variables with random values\n",
    "a = tf.Variable(20.0)\n",
    "b = tf.Variable(30.2)\n",
    "\n",
    "\n",
    "def h(x):\n",
    "   y = a*x + b\n",
    "   return y"
   ]
  },
  {
   "cell_type": "markdown",
   "id": "9e8bd1d1",
   "metadata": {},
   "source": [
    "### Defining loss function for regression\n",
    "* Minimizing squared error between predicted values (from model) and target values (from data)"
   ]
  },
  {
   "cell_type": "code",
   "execution_count": 29,
   "id": "fadbf19f",
   "metadata": {},
   "outputs": [],
   "source": [
    "def loss_object(y,train_y) :\n",
    "    return tf.reduce_mean(tf.square(y - train_y))\n",
    "    # Below is a predefined method offered by TensorFlow to calculate loss function\n",
    "    #loss_object = tf.keras.losses.MeanSquaredLogarithmicError()"
   ]
  },
  {
   "cell_type": "markdown",
   "id": "2489951f",
   "metadata": {},
   "source": [
    "### Training the model\n",
    "* Going through 200 iterations\n",
    "* Calculating loss values and storing them for the graph (gradient progression)\n",
    "* Adjusting the values after each calculation"
   ]
  },
  {
   "cell_type": "code",
   "execution_count": 30,
   "id": "e87bee98",
   "metadata": {},
   "outputs": [],
   "source": [
    "learning_rate = 0.01\n",
    "train_data = []\n",
    "loss_values =[]\n",
    "a_values = []\n",
    "b_values = []\n",
    "# steps of looping through all your data to update the parameters\n",
    "training_epochs = 200\n",
    "\n",
    "# train model\n",
    "for epoch in range(training_epochs):\n",
    "    with tf.GradientTape() as tape:\n",
    "        y_predicted = h(train_x)\n",
    "        loss_value = loss_object(train_y,y_predicted)\n",
    "        loss_values.append(loss_value)\n",
    "\n",
    "        # get gradients\n",
    "        gradients = tape.gradient(loss_value, [b,a])\n",
    "        \n",
    "        # compute and adjust weights\n",
    "        a_values.append(a.numpy())\n",
    "        b_values.append(b.numpy())\n",
    "        b.assign_sub(gradients[0]*learning_rate)\n",
    "        a.assign_sub(gradients[1]*learning_rate)\n",
    "        if epoch % 5 == 0:\n",
    "            train_data.append([a.numpy(), b.numpy()])"
   ]
  },
  {
   "cell_type": "markdown",
   "id": "940c6466",
   "metadata": {},
   "source": [
    "## Visualizing the results of our model"
   ]
  },
  {
   "cell_type": "markdown",
   "id": "cd835068",
   "metadata": {},
   "source": [
    "### Plotting the progress of the loss values"
   ]
  },
  {
   "cell_type": "code",
   "execution_count": 31,
   "id": "3a599e49",
   "metadata": {},
   "outputs": [
    {
     "data": {
      "text/plain": [
       "[<matplotlib.lines.Line2D at 0x288508055b0>]"
      ]
     },
     "execution_count": 31,
     "metadata": {},
     "output_type": "execute_result"
    },
    {
     "data": {
      "image/png": "[encoded data removed]",
      "text/plain": [
       "<Figure size 720x432 with 1 Axes>"
      ]
     },
     "metadata": {
      "needs_background": "light"
     },
     "output_type": "display_data"
    }
   ],
   "source": [
    "plt.xlabel(\"Epoch\")\n",
    "plt.ylabel(\"Loss\")\n",
    "plt.plot(loss_values, 'ro')"
   ]
  },
  {
   "cell_type": "markdown",
   "id": "c7d52fae",
   "metadata": {},
   "source": [
    "### Plotting the progress of refining the model"
   ]
  },
  {
   "cell_type": "code",
   "execution_count": 32,
   "id": "88ca52f1",
   "metadata": {},
   "outputs": [
    {
     "data": {
      "image/png": "[encoded data removed]",
      "text/plain": [
       "<Figure size 720x432 with 1 Axes>"
      ]
     },
     "metadata": {
      "needs_background": "light"
     },
     "output_type": "display_data"
    }
   ],
   "source": [
    "plt.scatter(train_x, train_y, color='green')\n",
    "for a,b in zip(a_values[0:len(a_values)], b_values[0:len(b_values)]):\n",
    "    plt.plot(train_x,a*train_x+b, color='red', linestyle='dashed')\n",
    "plt.plot(train_x,a_values[-1]*train_x+b_values[-1], color='black')\n",
    "\n",
    "final = mpatches.Patch(color='Black', label='Final')\n",
    "estimates = mpatches.Patch(color='Red', label='Estimates')\n",
    "data = mpatches.Patch(color='Green', label='Data Points')\n",
    "\n",
    "plt.legend(handles=[data, estimates, final])\n",
    "\n",
    "plt.show()"
   ]
  }
 ],
 "metadata": {
  "kernelspec": {
   "display_name": "Python 3 (ipykernel)",
   "language": "python",
   "name": "python3"
  },
  "language_info": {
   "codemirror_mode": {
    "name": "ipython",
    "version": 3
   },
   "file_extension": ".py",
   "mimetype": "text/x-python",
   "name": "python",
   "nbconvert_exporter": "python",
   "pygments_lexer": "ipython3",
   "version": "3.9.6"
  }
 },
 "nbformat": 4,
 "nbformat_minor": 5
}
